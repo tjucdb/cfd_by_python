{
 "cells": [
  {
   "cell_type": "markdown",
   "metadata": {},
   "source": [
    "# 不可压库埃特流（couette flow）的数值解\n",
    "\n",
    "库埃特流（couette flow）指的是粘性流体在相对运动着的两平行平板之间的层流流动。\n",
    "\n",
    "假设有两个距离$D$的平板，上平板以速度$u_e$运动，下平板静止，考虑俩平板之间的粘性流动，如图所示。\n",
    "![couette_flow](couette_flow.png)\n",
    "假设流体是不可压缩，且恒温的，其N-S方程可以简化为$$\\frac{\\partial^2 u}{\\partial y^2}=0$$\n",
    "\n",
    "上式有解析解，为$$u=u_e\\frac{y}{D}$$\n",
    "\n",
    "下面用数值方法求解，假设速度剖面为\n",
    "$$u=\\begin{cases}0 \\qquad 0\\leq y<D\\\\u_e \\qquad y=D \\end{cases}$$\n",
    "将其作为计算的初始速度，从初始条件出发，建立流场的时间推进解法。\n",
    "\n",
    "非定常流动控制方程为$$ \\rho \\frac{\\partial u}{\\partial t}=\\mu \\frac{\\partial^2 u}{\\partial y^2}$$\n",
    "\n",
    "为计算方便，首先定义无量纲变量$$u'=\\frac{u}{u_e} \\quad y'=\\frac{y}{D} \\quad t'=\\frac{t}{D/u_e}$$\n",
    "\n",
    "将控制方程无量纲化，化简得$$\\frac{\\partial u'}{\\partial t'}=\\frac{\\mu}{\\rho u_e D} \\frac{\\partial^2 u'}{\\partial y'^2}$$\n",
    "\n",
    "可以发现 $$\\frac{\\mu}{\\rho u_e D}\\equiv \\frac{1}{Re_D}$$\n",
    "\n",
    "其中$Re_D$是按照两平板之间距离计算的雷诺数，于是控制方程变为（省略变量上的`’`符号）$$\\frac{\\partial u}{\\partial t}=\\frac{1}{Re_D} \\frac{\\partial^2 u}{\\partial y^2}$$\n",
    "\n",
    "利用[克兰克-尼科尔森](https://zh.wikipedia.org/wiki/%E5%85%8B%E5%85%B0%E5%85%8B%EF%BC%8D%E5%B0%BC%E7%A7%91%E5%B0%94%E6%A3%AE%E6%96%B9%E6%B3%95)差分格式，上式化为 $$u_j^{n+1}=u_j^n+\\frac{\\Delta t}{2(\\Delta y)^2 Re_D}(u_{j+1}^{n+1}+u_{j+1}^n-2u_j^{n+1}-2u_j^n+u_{j-1}^{n+1}+u_{j-1}^n)$$\n",
    "移项并整理表示成下式：\n",
    "$$\\boxed{Au_{j-1}^{n+1}+Bu_j^{n+1}+A_{j+1}^{n+1}=K_j}$$\n",
    "其中$$A=-\\frac{\\Delta t}{2(\\Delta y)^2 Re_D} \\\\ B=1+\\frac{\\Delta t}{(\\Delta y)^2 Re_D} \\\\ K_j=[1-\\frac{\\Delta t}{(\\Delta y)^2 Re_D}]u_j^n+\\frac{\\Delta t}{2(\\Delta y) Re_D}(u_{j+1}^n+u_{j-1}^n)$$\n",
    "\n",
    "将方块内式子表示成矩阵形式\n",
    "$$\n",
    "\\begin{pmatrix} B & A & 0 & 0 & 0 & 0 & 0 & 0 & 0 \\\\ A & B & A & 0 & 0 & 0 & 0 & 0 & 0 \\\\ 0 & A & B & A & 0 & 0 & 0 & 0 & 0 \\\\ 0 & 0 & A & B & A & 0 & 0 & 0 & 0 \\\\ & & & \\cdots \\\\ & & & & \\cdots \\\\ & & & & & \\cdots \\\\ \\\\ 0 & 0 & 0 & 0 & 0 & 0 & A & B & A\\\\ 0 & 0 & 0 & 0 & 0 & 0 & 0 & A & B \\end{pmatrix}\\begin{pmatrix} u_2^{n+1} \\\\ u_3^{n+1} \\\\ u_4^{n+1} \\\\ u_5^{n+1} \\\\ \\vdots \\\\ u_{N-1}^{n+1} \\\\ u_N^{n+1} \\end{pmatrix}=\\begin{pmatrix} K_2 \\\\ K_3 \\\\ K_4 \\\\ K_5 \\\\ \\vdots \\\\ K_{N-1} \\\\ K_N-A  \\end{pmatrix}\n",
    "$$\n",
    "\n",
    "使用追赶法（托马斯算法）求解上式。"
   ]
  },
  {
   "cell_type": "code",
   "execution_count": 1,
   "metadata": {
    "collapsed": false,
    "scrolled": true
   },
   "outputs": [
    {
     "name": "stdout",
     "output_type": "stream",
     "text": [
      "Using matplotlib backend: Qt4Agg\n",
      "Populating the interactive namespace from numpy and matplotlib\n"
     ]
    }
   ],
   "source": [
    "%pylab"
   ]
  },
  {
   "cell_type": "markdown",
   "metadata": {},
   "source": [
    "算法：（参考《现代数值计算》P45的matlab算法）"
   ]
  },
  {
   "cell_type": "code",
   "execution_count": 2,
   "metadata": {
    "collapsed": false
   },
   "outputs": [],
   "source": [
    "def tridiagsolver(A,b):\n",
    "    n,n = A.shape\n",
    "    l=zeros(n)\n",
    "    u=zeros(n-1)\n",
    "    y=zeros(n)\n",
    "    x=zeros(n)\n",
    "    for i in range(n):\n",
    "        if i==0:\n",
    "            l[i] = A[i,i]\n",
    "            y[i]=b[i]/l[i]\n",
    "        else:\n",
    "            l[i]=A[i,i]-A[i,i-1]*u[i-1]\n",
    "            y[i]=(b[i]-y[i-1]*A[i,i-1])/l[i]\n",
    "        if i<n-1:\n",
    "            u[i]=A[i,i+1]/l[i]\n",
    "    x[n-1]=y[n-1]\n",
    "    for j in range(n-2,-1,-1):\n",
    "        x[j]=y[j]-u[j]*x[j+1]\n",
    "    return x"
   ]
  },
  {
   "cell_type": "markdown",
   "metadata": {
    "collapsed": true
   },
   "source": [
    "举例："
   ]
  },
  {
   "cell_type": "code",
   "execution_count": 3,
   "metadata": {
    "collapsed": false
   },
   "outputs": [
    {
     "name": "stdout",
     "output_type": "stream",
     "text": [
      "[ 5.  4.  3.  2.]\n"
     ]
    }
   ],
   "source": [
    "A=array([[2,-1,0,0],[-1,3,-2,0],[0,-2,4,-3],[0,0,-3,5]])\n",
    "b=array([[6],[1],[-2],[1]])\n",
    "x=tridiagsolver(A,b)\n",
    "print(x)"
   ]
  },
  {
   "cell_type": "markdown",
   "metadata": {},
   "source": [
    "选取21个网格点进行计算，本例采用的差分格式是无条件稳定的，参考显性格式的稳定性条件：$$\\frac{\\alpha \\Delta t}{(\\Delta x)^2}\\leq \\frac{1}{2}$$\n",
    "\n",
    "进行无量纲化，得$$\\Delta t \\leq  \\frac{1}{2}Re_D(\\Delta y)^2$$\n",
    "\n",
    "受此启发，我们取$$\\Delta t = E Re_D(\\Delta y)^2$$\n",
    "\n",
    "由于无条件稳定，E可以取任何值。\n",
    "\n",
    "从而简化$A \\quad B \\quad K_j$\n",
    "即$$A = -\\frac{E}{2}\\\\ B=1+E \\\\K_j=(1-E)u_j^n+\\frac{E}{2}(u_{j-1}^n)$$\n",
    "\n",
    "下面取$E=1\\quad Re_D=5000$进行计算"
   ]
  },
  {
   "cell_type": "code",
   "execution_count": 4,
   "metadata": {
    "collapsed": true
   },
   "outputs": [],
   "source": [
    "%matplotlib inline"
   ]
  },
  {
   "cell_type": "code",
   "execution_count": 5,
   "metadata": {
    "collapsed": false
   },
   "outputs": [],
   "source": [
    "def interation(E,N):\n",
    "    A=-E/2\n",
    "    B=1+E\n",
    "    T=diag([B,B,B,B,B,B,B,B,B,B,B,B,B,B,B,B,B,B,B])+\\\n",
    "        diag([A,A,A,A,A,A,A,A,A,A,A,A,A,A,A,A,A,A],-1)+\\\n",
    "        diag([A,A,A,A,A,A,A,A,A,A,A,A,A,A,A,A,A,A],1)\n",
    "    K=array([0,0,0,0,0,0,0,0,0,0,0,0,0,0,0,0,0,0,1]) #初始条件计算出的K\n",
    "    u=tridiagsolver(T,K) \n",
    "    u0=0.0\n",
    "    u20=1.0\n",
    "    j=0\n",
    "    while j<N:\n",
    "        K=ones(19)\n",
    "        for i in range(19):\n",
    "            if i==0:\n",
    "                K[i]=(1-E)*u[i]+E/2*(u[i+1]+u0)\n",
    "            elif i==18:\n",
    "                K[i]=(1-E)*u[i]+E/2*(u20+u[i-1])-A\n",
    "            elif  i>0 and i<18:\n",
    "                K[i]=(1-E)*u[i]+E/2*(u[i+1]+u[i-1])\n",
    "        u=tridiagsolver(T,K) \n",
    "        j=j+1\n",
    "    u = insert(u,(0,19),[0.0,1.0])\n",
    "    print(u)\n",
    "    plot(u,linspace(0,1,21))"
   ]
  },
  {
   "cell_type": "markdown",
   "metadata": {},
   "source": [
    "观察多次迭代后结果"
   ]
  },
  {
   "cell_type": "code",
   "execution_count": 6,
   "metadata": {
    "collapsed": false
   },
   "outputs": [
    {
     "name": "stdout",
     "output_type": "stream",
     "text": [
      "[  0.00000000e+00   5.48708995e-10   2.09397349e-09   7.42373505e-09\n",
      "   2.60880294e-08   9.12800836e-08   3.17952046e-07   1.10185536e-06\n",
      "   3.79585871e-06   1.29858095e-05   4.40579097e-05   1.47983722e-04\n",
      "   4.90918016e-04   1.60311461e-03   5.12820443e-03   1.59489329e-02\n",
      "   4.76177823e-02   1.33283987e-01   3.31615075e-01   6.18802154e-01\n",
      "   1.00000000e+00]\n",
      "[  0.00000000e+00   6.99964926e-05   1.82270795e-04   3.99300235e-04\n",
      "   8.30225200e-04   1.67007156e-03   3.25803404e-03   6.15923686e-03\n",
      "   1.12691737e-02   1.99301613e-02   3.40347728e-02   5.60752987e-02\n",
      "   8.90872686e-02   1.36437615e-01   2.01431498e-01   2.86759285e-01\n",
      "   3.93862672e-01   5.22359476e-01   6.69682022e-01   8.31074200e-01\n",
      "   1.00000000e+00]\n",
      "[ 0.          0.04174087  0.08368476  0.12602969  0.1689639   0.21266122\n",
      "  0.25727677  0.30294321  0.34976739  0.39782778  0.44717246  0.49781794\n",
      "  0.54974867  0.60291744  0.65724648  0.71262936  0.76893361  0.82600392\n",
      "  0.88366603  0.94173103  1.        ]\n",
      "[ 0.    0.05  0.1   0.15  0.2   0.25  0.3   0.35  0.4   0.45  0.5   0.55\n",
      "  0.6   0.65  0.7   0.75  0.8   0.85  0.9   0.95  1.  ]\n"
     ]
    },
    {
     "data": {
      "image/png": "[encoded data removed]",
      "text/plain": [
       "<matplotlib.figure.Figure at 0x211ae0a4e48>"
      ]
     },
     "metadata": {},
     "output_type": "display_data"
    }
   ],
   "source": [
    "interation(1,1)\n",
    "interation(1,10)\n",
    "interation(1,100)\n",
    "interation(1,1000)"
   ]
  },
  {
   "cell_type": "markdown",
   "metadata": {},
   "source": [
    "可见当迭代次数足够多时，流动趋于稳定，逼近数值解。\n",
    "\n",
    "补充：尝试取不同的$E$，即不同的$\\Delta t$进行计算，观察结果。"
   ]
  },
  {
   "cell_type": "code",
   "execution_count": 7,
   "metadata": {
    "collapsed": false,
    "scrolled": true
   },
   "outputs": [
    {
     "name": "stdout",
     "output_type": "stream",
     "text": [
      "[ 0.          0.05000133  0.10000411  0.15000854  0.20001237  0.25001018\n",
      "  0.2999947   0.34996237  0.39992443  0.44991985  0.50001476  0.5502561\n",
      "  0.600544    0.65045016  0.69923788  0.74679282  0.79639222  0.8574941\n",
      "  0.93058654  0.8933234   1.        ]\n",
      "[ 0.          0.05        0.1         0.15        0.2         0.25\n",
      "  0.29999999  0.35000001  0.40000005  0.45000001  0.49999976  0.54999976\n",
      "  0.60000121  0.65000165  0.69999171  0.74999507  0.800077    0.84979759\n",
      "  0.90028724  0.94978175  1.        ]\n"
     ]
    },
    {
     "data": {
      "image/png": "[encoded data removed]",
      "text/plain": [
       "<matplotlib.figure.Figure at 0x211ae23b320>"
      ]
     },
     "metadata": {},
     "output_type": "display_data"
    }
   ],
   "source": [
    "interation(1000,1000)\n",
    "interation(1000,5000)"
   ]
  },
  {
   "cell_type": "markdown",
   "metadata": {},
   "source": [
    "可见当E过大时，效果反而不好，需要迭代更多次。所以**大时间步长的隐式格式不适合计算关心瞬时结果的问题**。"
   ]
  },
  {
   "cell_type": "markdown",
   "metadata": {},
   "source": [
    "参考：《计算流体力学基础及应用》 John D. Anderson\n",
    "\n",
    "        《现代数值计算》 同济大学"
   ]
  }
 ],
 "metadata": {
  "kernelspec": {
   "display_name": "Python 3",
   "language": "python",
   "name": "python3"
  },
  "language_info": {
   "codemirror_mode": {
    "name": "ipython",
    "version": 3
   },
   "file_extension": ".py",
   "mimetype": "text/x-python",
   "name": "python",
   "nbconvert_exporter": "python",
   "pygments_lexer": "ipython3",
   "version": "3.5.1"
  }
 },
 "nbformat": 4,
 "nbformat_minor": 0
}
